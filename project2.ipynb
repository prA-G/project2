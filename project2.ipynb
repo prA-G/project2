{
  "nbformat": 4,
  "nbformat_minor": 0,
  "metadata": {
    "colab": {
      "provenance": []
    },
    "kernelspec": {
      "name": "python3",
      "display_name": "Python 3"
    },
    "language_info": {
      "name": "python"
    }
  },
  "cells": [
    {
      "cell_type": "markdown",
      "source": [
        "# Data types and Structures Questions"
      ],
      "metadata": {
        "id": "Fyv29xf-i11Y"
      }
    },
    {
      "cell_type": "markdown",
      "source": [
        "## 1. What are data structures, and why are they important?"
      ],
      "metadata": {
        "id": "kqlQ5v6QjJON"
      }
    },
    {
      "cell_type": "markdown",
      "source": [
        "- Data structures aka data container is an efficient way for organising and storing data so that it can be accessed and manipulated easily.\n",
        "- Data structures play very important role in Data science because of its following property.\n",
        "-  \n",
        "\n",
        "1.   Efficient data management :\n",
        "Organise and store data in a way that makes it easily accessible, searchable, updatable.\n",
        "2.   Optimized Performance :\n",
        "When working on project with cluster of\n",
        "data, it helps us to choose right data structure to make the code run faster and smoother.\n",
        "3. Solving complex problem :\n",
        "It become the backbone of smart solution in tech as it structure the logic of problem solving.\n",
        "4. Memory Efficiency : It use the memory very wisely which prevent data duplication.\n",
        "5. Fundamental for Algorithm : Every algorithms depends on some data structures to work correctly.\n",
        "\n",
        "\n",
        "\n",
        "\n"
      ],
      "metadata": {
        "id": "lZlox-KxjP04"
      }
    },
    {
      "cell_type": "markdown",
      "source": [
        "## 2. Explain the difference between mutable and immutable data types with examples."
      ],
      "metadata": {
        "id": "S2l3sTrSl8mu"
      }
    },
    {
      "cell_type": "markdown",
      "source": [
        "- **Mutable Data Types** : A data type whose elements can be changed, added or removed even after their creation are called Mutable Data Types.\n",
        "- Examples : List, Sets, Dictionary\n",
        "- **Immutable Data Type** : A data type whose elements can not be changed once they are created are called immutable data type.\n",
        "- Examples : String, tuples, float, etc"
      ],
      "metadata": {
        "id": "2x2EY4DxmFi2"
      }
    },
    {
      "cell_type": "markdown",
      "source": [
        "Let us take an example of list and tuple, which show elements of list can be changed as it is mutable but elements of tuples cannot changed as it will throw error.\n"
      ],
      "metadata": {
        "id": "qkCgWlEopFNk"
      }
    },
    {
      "cell_type": "code",
      "source": [
        "# Mutable data type = list\n",
        "my_list=[\"XYZ\",\"Delhi\",\"42street\",5+8j]\n",
        "my_list"
      ],
      "metadata": {
        "colab": {
          "base_uri": "https://localhost:8080/"
        },
        "id": "t32s_btYjAWR",
        "outputId": "cc77bc07-be9f-40c5-f62f-2857ca2702b2"
      },
      "execution_count": null,
      "outputs": [
        {
          "output_type": "execute_result",
          "data": {
            "text/plain": [
              "['XYZ', 'Delhi', '42street', (5+8j)]"
            ]
          },
          "metadata": {},
          "execution_count": 1
        }
      ]
    },
    {
      "cell_type": "code",
      "source": [
        "my_list[1]=\"Banglore\"\n",
        "my_list #updated"
      ],
      "metadata": {
        "colab": {
          "base_uri": "https://localhost:8080/"
        },
        "id": "d2YHkMhapo2W",
        "outputId": "86c3a19b-2935-401e-b3c0-3d1e432bf11a"
      },
      "execution_count": null,
      "outputs": [
        {
          "output_type": "execute_result",
          "data": {
            "text/plain": [
              "['XYZ', 'Banglore', '42street', (5+8j)]"
            ]
          },
          "metadata": {},
          "execution_count": 2
        }
      ]
    },
    {
      "cell_type": "code",
      "source": [
        "my_tuple=(\"XYZ\",\"Delhi\",\"42street\",5+8j)\n",
        "my_tuple"
      ],
      "metadata": {
        "colab": {
          "base_uri": "https://localhost:8080/"
        },
        "id": "phCplp1hp614",
        "outputId": "9abbb438-b503-4008-91bf-00538772b0d9"
      },
      "execution_count": null,
      "outputs": [
        {
          "output_type": "execute_result",
          "data": {
            "text/plain": [
              "('XYZ', 'Delhi', '42street', (5+8j))"
            ]
          },
          "metadata": {},
          "execution_count": 3
        }
      ]
    },
    {
      "cell_type": "code",
      "source": [
        "try:\n",
        "    my_tuple[1]=\"Banglore\"\n",
        "except TypeError as e:\n",
        "    print(\"Error : \",e)"
      ],
      "metadata": {
        "colab": {
          "base_uri": "https://localhost:8080/"
        },
        "id": "JAS_P7VPqFRk",
        "outputId": "eadd0e9a-17ed-4071-ec09-2ab6ba4628f5"
      },
      "execution_count": null,
      "outputs": [
        {
          "output_type": "stream",
          "name": "stdout",
          "text": [
            "Error :  'tuple' object does not support item assignment\n"
          ]
        }
      ]
    },
    {
      "cell_type": "markdown",
      "source": [
        "## 3. What are the main difference between lists and tuples in Python?"
      ],
      "metadata": {
        "id": "QoTqutbaqwit"
      }
    },
    {
      "cell_type": "markdown",
      "source": [
        "The differences between lists and tuples are given below :\n",
        "- List is mutable collection whereas tuple is immutable collection.\n",
        "- For list we use [ ] but for tuple we use ( ).\n",
        "- Since list is mutable, it has many built-in methonds but as tuple is immutable it has less built-in methods as caompared to list.\n",
        "- List is used for the data which we can futher customize as per our requirements, but tuples used for tha data which is constant and connot be alter after."
      ],
      "metadata": {
        "id": "-nfS6J5Sq4Xs"
      }
    },
    {
      "cell_type": "markdown",
      "source": [
        "## 4. Describe how dictionaries stores data?\n"
      ],
      "metadata": {
        "id": "werCdnXDr_Ov"
      }
    },
    {
      "cell_type": "markdown",
      "source": [
        "Dictionaries are type of data structure that stores data as key-value pairs. Each value is accessed by unique key (not index likewise in list/tuple)\n",
        "- In dictionary, for every value we put in , there must be a specific and unique key.\n",
        "- For example, if we want to store detail of student in a dictionary, it can be done by below code."
      ],
      "metadata": {
        "id": "TnMcLSsXsFFj"
      }
    },
    {
      "cell_type": "code",
      "source": [
        "student_details={\"Name\":\"PQRS\",\"Address\":\"Lucknow\",\"Course\":\"DS with Gen AI\",\"Type\":\"Pro\"}\n",
        "student_details"
      ],
      "metadata": {
        "colab": {
          "base_uri": "https://localhost:8080/"
        },
        "id": "T-sXekEiqXDI",
        "outputId": "b4b7bcad-d84a-44a2-9e64-b29de2e18fdd"
      },
      "execution_count": null,
      "outputs": [
        {
          "output_type": "execute_result",
          "data": {
            "text/plain": [
              "{'Name': 'PQRS',\n",
              " 'Address': 'Lucknow',\n",
              " 'Course': 'DS with Gen AI',\n",
              " 'Type': 'Pro'}"
            ]
          },
          "metadata": {},
          "execution_count": 5
        }
      ]
    },
    {
      "cell_type": "markdown",
      "source": [
        "Here \"Name\", \"Address\",\"Course\" and \"Type\" are Key which are unique and used to access the details or value."
      ],
      "metadata": {
        "id": "YrbjB5Fwtj08"
      }
    },
    {
      "cell_type": "code",
      "source": [
        "print(student_details[\"Name\"])\n",
        "print(student_details[\"Course\"])"
      ],
      "metadata": {
        "colab": {
          "base_uri": "https://localhost:8080/"
        },
        "id": "vfZ5xvEatgiP",
        "outputId": "1d588612-a0b1-4705-c0cd-71ae6afdb4f1"
      },
      "execution_count": null,
      "outputs": [
        {
          "output_type": "stream",
          "name": "stdout",
          "text": [
            "PQRS\n",
            "DS with Gen AI\n"
          ]
        }
      ]
    },
    {
      "cell_type": "markdown",
      "source": [
        "## 5. Why might you use a set instead of a list in Python?"
      ],
      "metadata": {
        "id": "vxQZxaztuA6k"
      }
    },
    {
      "cell_type": "markdown",
      "source": [
        "We often use set instead of a list to remove the duplication of data and to get the unique value."
      ],
      "metadata": {
        "id": "jLWlJqBzuf66"
      }
    },
    {
      "cell_type": "markdown",
      "source": [
        "## 6. What is a string in Python, and how is it different from a list?"
      ],
      "metadata": {
        "id": "lEjUwORBvLp4"
      }
    },
    {
      "cell_type": "markdown",
      "source": [
        "String is a sequence of character where each character is unit of text that represent and manipulate textual data.\n",
        "- Strings are different from list in following ways:\n",
        "1. String is immutable and list is mutable.\n",
        "2. The character of string cannot be changed after creation unlike list.\n",
        "3. String is sequence of character but list has sequence of items.\n",
        "4. It can only and only hold character value or anything enclosed in \" \".  But list can hold all types of data."
      ],
      "metadata": {
        "id": "iFRSXpT7yo4o"
      }
    },
    {
      "cell_type": "markdown",
      "source": [
        "## 7. How does tuples ensure data integrity in Python?\n"
      ],
      "metadata": {
        "id": "kVwjzvAL0hXI"
      }
    },
    {
      "cell_type": "markdown",
      "source": [
        "Tuple ensure data integrity as:\n",
        "1. It is immutable, so once tuple is created for any confidential, credential data, it can not be modified as per anyone's convenience.\n",
        "2. Tuples are hashable so the programming language trusts it to be unchanging.\n",
        "3. It prevent from accidental update.\n",
        "4. It keeps the data safe and secure as once the data is created in tuple no one can add, remove, or reordered it."
      ],
      "metadata": {
        "id": "gNmlVlBT0ncp"
      }
    },
    {
      "cell_type": "markdown",
      "source": [
        "## 8. What is hash table, and how does it relate to dictionaries in Python?"
      ],
      "metadata": {
        "id": "QLQeJxVR2KIW"
      }
    },
    {
      "cell_type": "markdown",
      "source": [
        "A hash table  is a data structure that stores data in *key-Value* pairs and gives fast access for the key.\n",
        "- It is related to dictionaries as in python dictionary works on key-value function. For any element of dictionary, ther must be an immutable key assigned so that the value can be accessed easily. These keys work as index ."
      ],
      "metadata": {
        "id": "H6EPPdyc2v3e"
      }
    },
    {
      "cell_type": "markdown",
      "source": [
        "## 9. Can lists contain different data types in Python."
      ],
      "metadata": {
        "id": "GimXI0eW3aWT"
      }
    },
    {
      "cell_type": "markdown",
      "source": [
        "Yes, list can contain different data types in python, as it can be anything like:\n",
        "- string\n",
        "- integer\n",
        "- float\n",
        "- another list\n",
        "- boolean\n",
        "This feature of list make it more flexible."
      ],
      "metadata": {
        "id": "IMpZIASp3g4C"
      }
    },
    {
      "cell_type": "markdown",
      "source": [
        "## 10. Explain why strings are immutable in Python."
      ],
      "metadata": {
        "id": "DTA9ut9431yH"
      }
    },
    {
      "cell_type": "markdown",
      "source": [
        "In python, if we create any string value then after its creation we cannot modify, edit it. And hence  strings are immutable in Python."
      ],
      "metadata": {
        "id": "dGEb4tWo372q"
      }
    },
    {
      "cell_type": "markdown",
      "source": [
        "## 11. What advantages do dictionaries offer over list for certain tasks?"
      ],
      "metadata": {
        "id": "lRloX-974clj"
      }
    },
    {
      "cell_type": "markdown",
      "source": [
        "1. faster look up: As dictionaries is a key-valued function which make it hassle free and super fast unlike list.\n",
        "2. Dictionaries hold keys for each value like a one-to-one relationship. but list only hold values in sequences.\n",
        "3. Dictionaries make the code index-free, only by the key we can accessed values, but in list we have to look for indices."
      ],
      "metadata": {
        "id": "EUg3EzOY41N0"
      }
    },
    {
      "cell_type": "markdown",
      "source": [
        "## 12. Describe a scenario where using a tuple would be preferable over a list"
      ],
      "metadata": {
        "id": "uhgOeGVt41za"
      }
    },
    {
      "cell_type": "markdown",
      "source": [
        "Let us assume a scenario in which we have to create biometric details of customer in bank. By using tuple for biometric details we can store data for permanently as once biometric details are uploaded it couldn't changed further and it helps the bank in maintaning privacy of customer. But if we use list instead of tuple, we can easily modify the biometric details even after it beings uploaded. This will lead to a breach of the customer's privacy."
      ],
      "metadata": {
        "id": "ScElIgvH8UoS"
      }
    },
    {
      "cell_type": "markdown",
      "source": [
        "## 13. How do sets handle duplicate values in Python?"
      ],
      "metadata": {
        "id": "I2Tes6Si-g9O"
      }
    },
    {
      "cell_type": "markdown",
      "source": [
        "In python, Sets automatically remove the duplicates value. If we add any element to the set, Set will check it, if the value is already exists there, it will skips. So by ignoring the duplicates value, we can say that set handle duplicate values.\n",
        "\n"
      ],
      "metadata": {
        "id": "u-nVHMJM-o3T"
      }
    },
    {
      "cell_type": "markdown",
      "source": [
        "## 14. How does the \"in\" keyword work differently for lists and dictionaries?"
      ],
      "metadata": {
        "id": "7TL_KDAl_Yrc"
      }
    },
    {
      "cell_type": "markdown",
      "source": [
        "The \"in\" keyword is membership operator which work differently for lists and dictionary as :\n",
        "- In list \"in\" keyword is used to check whether the *value* present in list or not.\n",
        "- In dictionary \"in\" keyword is used to check whether the *Key* present in dictionary or not."
      ],
      "metadata": {
        "id": "mDgMU4wz_k6V"
      }
    },
    {
      "cell_type": "markdown",
      "source": [
        "## 15. Can you modify the elements of a tuple? Explain why or why not?"
      ],
      "metadata": {
        "id": "JKwmv5ycAOwj"
      }
    },
    {
      "cell_type": "markdown",
      "source": [
        "No, we can not modify the elements of a tuple.\n",
        "Because tuple is immutable and once it is created, cannot be modified further.\n"
      ],
      "metadata": {
        "id": "t9EURgO5AaFU"
      }
    },
    {
      "cell_type": "markdown",
      "source": [
        "## 16. What is nested dictionary, and give an example of its use case?"
      ],
      "metadata": {
        "id": "9OwP8GHJA3gD"
      }
    },
    {
      "cell_type": "markdown",
      "source": [
        "As per the name suggested nested, the nested dictionary is a dictionary inside another dictionary.\n",
        "- Use case :\n",
        "Suppose we have to collect login credentials of office staff. In this scenario we can use nested dictionary as."
      ],
      "metadata": {
        "id": "pCI1hUm6BJFG"
      }
    },
    {
      "cell_type": "code",
      "source": [
        "office_staff_cred ={\"Principal\":{\"username\":\"prin@123\",\"password\":\"MK09MK\",\"Authority\":\"Admin\"},\n",
        "                    \"Cashier\":{\"username\":\"cash@123\",\"password\":\"DK87DK\",\"Authority\":\"Staff\"},\n",
        "                    \"Receptionist\":{\"username\":\"Rec@123\",\"password\":\"MD9090\",\"Authority\":\"staff\"}}"
      ],
      "metadata": {
        "id": "RPdGgkdXtcVZ"
      },
      "execution_count": null,
      "outputs": []
    },
    {
      "cell_type": "code",
      "source": [
        "print(office_staff_cred[\"Principal\"][\"username\"])\n",
        "print(office_staff_cred[\"Receptionist\"][\"Authority\"])"
      ],
      "metadata": {
        "colab": {
          "base_uri": "https://localhost:8080/"
        },
        "id": "MsR29HPqC89N",
        "outputId": "fcd9ff67-5ab4-486c-9630-a8e08ec0cc08"
      },
      "execution_count": null,
      "outputs": [
        {
          "output_type": "stream",
          "name": "stdout",
          "text": [
            "prin@123\n",
            "staff\n"
          ]
        }
      ]
    },
    {
      "cell_type": "markdown",
      "source": [
        "## 17. Describe the time complexity of accessing elements in a dictionary."
      ],
      "metadata": {
        "id": "YA0e7EoxDiPN"
      }
    },
    {
      "cell_type": "markdown",
      "source": [
        "Since python dictionary are implemented using hash tables so it allows fast look-up. When a key is accessed, it directly give the corresponding value of that key. This means that, accessing a value using its key takes constant time, regardless the size of dictionary.\n",
        "But sometime it become complicated when we have same hash value for more than one key."
      ],
      "metadata": {
        "id": "sCbLj7J0EEZd"
      }
    },
    {
      "cell_type": "markdown",
      "source": [
        "## 18. In what situations are list preffered over dictionaries?"
      ],
      "metadata": {
        "id": "9RJa3GWaE66c"
      }
    },
    {
      "cell_type": "markdown",
      "source": [
        "There are some situations when lists are preferred over dictionaries as:\n",
        "1. When we want something in well orderd or sequence.\n",
        "2. If the values dont need label.\n",
        "3. When we look for easy iteration of values/items.\n",
        "4. When duplication of items is not big deal."
      ],
      "metadata": {
        "id": "GNAUQZwTFDVW"
      }
    },
    {
      "cell_type": "markdown",
      "source": [
        "## 19. Why are dictionaries considered unorderd and how does that affect data."
      ],
      "metadata": {
        "id": "PunmqqzYF8pB"
      }
    },
    {
      "cell_type": "markdown",
      "source": [
        "In dictionary, the keys will appear in the way we added them but not support sorting function which means dictionary is not considered as an ordered data types.\n",
        "It is so because it works on hash table feature in which sorting or ordering not allowed. Its main purpose is being fast not orderd.\n",
        "- It affect data in following way:\n",
        "1. Output order will not be predictible\n",
        "2. Can create problem in debugging.\n",
        "3. For every value, a unique key will be required."
      ],
      "metadata": {
        "id": "ebtVpBbmGExr"
      }
    },
    {
      "cell_type": "markdown",
      "source": [
        "## 20. Explain the difference between a list and a dictionary in terms of data retrieval."
      ],
      "metadata": {
        "id": "neG3VALZHYfe"
      }
    },
    {
      "cell_type": "markdown",
      "source": [
        "A list accesses elements by their index, while dictionary retrieves data using its unique key."
      ],
      "metadata": {
        "id": "XjS1YLi6Hgmd"
      }
    },
    {
      "cell_type": "markdown",
      "source": [
        "# Practical Questions"
      ],
      "metadata": {
        "id": "xieIuJBGRaII"
      }
    },
    {
      "cell_type": "markdown",
      "source": [
        "## 1. Write a code to create a string with your name and print it."
      ],
      "metadata": {
        "id": "zn3Z_imVRwcK"
      }
    },
    {
      "cell_type": "code",
      "source": [
        "my_name=\"Pragati\"\n",
        "print(my_name)"
      ],
      "metadata": {
        "id": "TjuHReOUDgWl",
        "colab": {
          "base_uri": "https://localhost:8080/"
        },
        "outputId": "834379d7-e6b1-4fe1-f1cc-cfa40cf562c5"
      },
      "execution_count": 14,
      "outputs": [
        {
          "output_type": "stream",
          "name": "stdout",
          "text": [
            "Pragati\n"
          ]
        }
      ]
    },
    {
      "cell_type": "code",
      "source": [
        "type(my_name)"
      ],
      "metadata": {
        "colab": {
          "base_uri": "https://localhost:8080/"
        },
        "id": "TwH_sWdaR8nb",
        "outputId": "dd8275ce-cdfd-4bab-d07c-f30983ebcd89"
      },
      "execution_count": 15,
      "outputs": [
        {
          "output_type": "execute_result",
          "data": {
            "text/plain": [
              "str"
            ]
          },
          "metadata": {},
          "execution_count": 15
        }
      ]
    },
    {
      "cell_type": "markdown",
      "source": [
        "## 2. Write a code to find the length of the string \"Hello World\"."
      ],
      "metadata": {
        "id": "TLwkt-PlSQDV"
      }
    },
    {
      "cell_type": "code",
      "source": [
        "str1=\"Hello World\"\n",
        "print(str1)\n",
        "print(\"The length of given string is : \",len(str1))"
      ],
      "metadata": {
        "colab": {
          "base_uri": "https://localhost:8080/"
        },
        "id": "QJqeGpVqSB_m",
        "outputId": "36befc49-6786-4efd-f180-500f347061e5"
      },
      "execution_count": 19,
      "outputs": [
        {
          "output_type": "stream",
          "name": "stdout",
          "text": [
            "Hello World\n",
            "The length of given string is :  11\n"
          ]
        }
      ]
    },
    {
      "cell_type": "markdown",
      "source": [
        "## 3. Write a code to slice the first 3 character from the string \"Python Programming\"."
      ],
      "metadata": {
        "id": "tFpJvVyDSuDf"
      }
    },
    {
      "cell_type": "code",
      "source": [
        "word=\"Python Programming\"\n",
        "word[:3]"
      ],
      "metadata": {
        "colab": {
          "base_uri": "https://localhost:8080/",
          "height": 35
        },
        "id": "dhoY7l13ShC-",
        "outputId": "ed00a9aa-aadd-42a2-90fb-2c7bc3ba1dc9"
      },
      "execution_count": 21,
      "outputs": [
        {
          "output_type": "execute_result",
          "data": {
            "text/plain": [
              "'Pyt'"
            ],
            "application/vnd.google.colaboratory.intrinsic+json": {
              "type": "string"
            }
          },
          "metadata": {},
          "execution_count": 21
        }
      ]
    },
    {
      "cell_type": "markdown",
      "source": [
        "## 4. Write a code to convert the string \"hello\" to uppercase."
      ],
      "metadata": {
        "id": "eIJ21nqLU7Dt"
      }
    },
    {
      "cell_type": "code",
      "source": [
        "code=\"hello\"\n",
        "code.upper()"
      ],
      "metadata": {
        "colab": {
          "base_uri": "https://localhost:8080/",
          "height": 35
        },
        "id": "v614M7IUUwd0",
        "outputId": "5d10775f-5d28-47ea-84cf-4add8e813399"
      },
      "execution_count": 24,
      "outputs": [
        {
          "output_type": "execute_result",
          "data": {
            "text/plain": [
              "'HELLO'"
            ],
            "application/vnd.google.colaboratory.intrinsic+json": {
              "type": "string"
            }
          },
          "metadata": {},
          "execution_count": 24
        }
      ]
    },
    {
      "cell_type": "markdown",
      "source": [
        "## 5. Write a code to replce the word \"apple\" with \"orange\" in the string \"I like apple\"."
      ],
      "metadata": {
        "id": "zfi5MhFfV0E2"
      }
    },
    {
      "cell_type": "code",
      "source": [
        "S=\"I like apple\"\n",
        "S.replace(\"apple\",\"orange\")"
      ],
      "metadata": {
        "colab": {
          "base_uri": "https://localhost:8080/",
          "height": 35
        },
        "id": "E8NYpkDsVTN6",
        "outputId": "4956e51e-7406-447e-bb54-594e64384680"
      },
      "execution_count": 31,
      "outputs": [
        {
          "output_type": "execute_result",
          "data": {
            "text/plain": [
              "'I like orange'"
            ],
            "application/vnd.google.colaboratory.intrinsic+json": {
              "type": "string"
            }
          },
          "metadata": {},
          "execution_count": 31
        }
      ]
    },
    {
      "cell_type": "markdown",
      "source": [
        "## 6. Write a code to create a list with numbers 1 to 5 and print it."
      ],
      "metadata": {
        "id": "vd3iUkSFX2f6"
      }
    },
    {
      "cell_type": "code",
      "source": [
        "num_list=[1,2,3,4,5]\n",
        "print(num_list)"
      ],
      "metadata": {
        "colab": {
          "base_uri": "https://localhost:8080/"
        },
        "id": "X-zSQGyMWxZJ",
        "outputId": "34091e99-d619-45ab-87cd-67ec63ec4a9d"
      },
      "execution_count": 32,
      "outputs": [
        {
          "output_type": "stream",
          "name": "stdout",
          "text": [
            "[1, 2, 3, 4, 5]\n"
          ]
        }
      ]
    },
    {
      "cell_type": "code",
      "source": [
        "num_list=list(range(1,6))\n",
        "print(num_list)"
      ],
      "metadata": {
        "colab": {
          "base_uri": "https://localhost:8080/"
        },
        "id": "K-bye_hnW45v",
        "outputId": "2882d5e9-28d2-4fde-eb0e-e1dddb870843"
      },
      "execution_count": 33,
      "outputs": [
        {
          "output_type": "stream",
          "name": "stdout",
          "text": [
            "[1, 2, 3, 4, 5]\n"
          ]
        }
      ]
    },
    {
      "cell_type": "markdown",
      "source": [
        "## 7. Write a code to append a number 10 to the list [1,2,3,4]."
      ],
      "metadata": {
        "id": "RyCW_jObZcut"
      }
    },
    {
      "cell_type": "code",
      "source": [
        "lis=[1,2,3,4]\n",
        "lis.append(10)\n",
        "lis"
      ],
      "metadata": {
        "colab": {
          "base_uri": "https://localhost:8080/"
        },
        "id": "lmRTiHVjZZ9q",
        "outputId": "9d0a1b37-cc6e-4fea-d750-163e39093920"
      },
      "execution_count": 35,
      "outputs": [
        {
          "output_type": "execute_result",
          "data": {
            "text/plain": [
              "[1, 2, 3, 4, 10]"
            ]
          },
          "metadata": {},
          "execution_count": 35
        }
      ]
    },
    {
      "cell_type": "markdown",
      "source": [
        "## 8. Write a code to remove a number 3 from the list [1,2,3,4,5"
      ],
      "metadata": {
        "id": "3HXWHtKPZ9HM"
      }
    },
    {
      "cell_type": "code",
      "source": [
        "lis1=[1,2,3,4,5]\n",
        "lis1.remove(3)\n",
        "lis1"
      ],
      "metadata": {
        "colab": {
          "base_uri": "https://localhost:8080/"
        },
        "id": "RSktPb1JZnev",
        "outputId": "c5ec199a-313b-4081-fa7d-96756a833674"
      },
      "execution_count": 36,
      "outputs": [
        {
          "output_type": "execute_result",
          "data": {
            "text/plain": [
              "[1, 2, 4, 5]"
            ]
          },
          "metadata": {},
          "execution_count": 36
        }
      ]
    },
    {
      "cell_type": "markdown",
      "source": [
        "## 9. Write a code to access the second element in the list ['a','b','c','d']"
      ],
      "metadata": {
        "id": "Vp_We6KWarrw"
      }
    },
    {
      "cell_type": "code",
      "source": [
        "lis2=['a','b','c','d']\n",
        "lis2[1]"
      ],
      "metadata": {
        "colab": {
          "base_uri": "https://localhost:8080/",
          "height": 35
        },
        "id": "o5cbr8Uvale_",
        "outputId": "57c08885-8524-43a9-bf6c-8c1212a97d5f"
      },
      "execution_count": 37,
      "outputs": [
        {
          "output_type": "execute_result",
          "data": {
            "text/plain": [
              "'b'"
            ],
            "application/vnd.google.colaboratory.intrinsic+json": {
              "type": "string"
            }
          },
          "metadata": {},
          "execution_count": 37
        }
      ]
    },
    {
      "cell_type": "markdown",
      "source": [
        "## 10. Write a code to reverse the list [10,20,30,40,50]"
      ],
      "metadata": {
        "id": "O8QyIW0KbCFp"
      }
    },
    {
      "cell_type": "code",
      "source": [
        "my_lis=[10,20,30,40,50]\n",
        "my_lis.reverse()\n",
        "my_lis"
      ],
      "metadata": {
        "colab": {
          "base_uri": "https://localhost:8080/"
        },
        "id": "OXAaMoVabAkL",
        "outputId": "64d1afbb-3493-4dbf-9f78-4833b5c7dc3e"
      },
      "execution_count": 39,
      "outputs": [
        {
          "output_type": "execute_result",
          "data": {
            "text/plain": [
              "[50, 40, 30, 20, 10]"
            ]
          },
          "metadata": {},
          "execution_count": 39
        }
      ]
    },
    {
      "cell_type": "markdown",
      "source": [
        "## 11. Write a code to create a tuple with the elements 100,200,300 and print it."
      ],
      "metadata": {
        "id": "KMtV5YLCboXU"
      }
    },
    {
      "cell_type": "code",
      "source": [
        "my_tuple=(100,200,300)\n",
        "print(my_tuple)"
      ],
      "metadata": {
        "colab": {
          "base_uri": "https://localhost:8080/"
        },
        "id": "qXDKebiebi-i",
        "outputId": "64a8f3dd-bac2-4b96-d42e-986680ba52ae"
      },
      "execution_count": 40,
      "outputs": [
        {
          "output_type": "stream",
          "name": "stdout",
          "text": [
            "(100, 200, 300)\n"
          ]
        }
      ]
    },
    {
      "cell_type": "markdown",
      "source": [
        "## 12. Write a code to access the second to last element tuple ('red','green','blue','yellow')"
      ],
      "metadata": {
        "id": "LvJI7MUkcAxR"
      }
    },
    {
      "cell_type": "code",
      "source": [
        "color=('red','green','blue','yellow')\n",
        "color[-2]"
      ],
      "metadata": {
        "colab": {
          "base_uri": "https://localhost:8080/",
          "height": 35
        },
        "id": "gec2zgFcb4pf",
        "outputId": "6867ce43-5dc1-4905-aa91-82ea99cc6948"
      },
      "execution_count": 41,
      "outputs": [
        {
          "output_type": "execute_result",
          "data": {
            "text/plain": [
              "'blue'"
            ],
            "application/vnd.google.colaboratory.intrinsic+json": {
              "type": "string"
            }
          },
          "metadata": {},
          "execution_count": 41
        }
      ]
    },
    {
      "cell_type": "markdown",
      "source": [
        "## 13. Write a code to find the minimum number in the tuple (10,20,5,15)."
      ],
      "metadata": {
        "id": "QvBTyVHGcXTS"
      }
    },
    {
      "cell_type": "code",
      "source": [
        "num=(10,20,5,15)\n",
        "min(num)"
      ],
      "metadata": {
        "colab": {
          "base_uri": "https://localhost:8080/"
        },
        "id": "o17CDhPtcVhN",
        "outputId": "192534fa-2f66-4f6e-9326-6b18f6e5258f"
      },
      "execution_count": 42,
      "outputs": [
        {
          "output_type": "execute_result",
          "data": {
            "text/plain": [
              "5"
            ]
          },
          "metadata": {},
          "execution_count": 42
        }
      ]
    },
    {
      "cell_type": "markdown",
      "source": [
        "## 14. Write a code to find index of the element \"cat\" in the tuple ('dog','cat','rabbit',)"
      ],
      "metadata": {
        "id": "Wnlw6QjAcmWh"
      }
    },
    {
      "cell_type": "code",
      "source": [
        "animal=('dog','cat','rabbit')\n",
        "animal.index('cat')"
      ],
      "metadata": {
        "colab": {
          "base_uri": "https://localhost:8080/"
        },
        "id": "6fF5Vyosckn9",
        "outputId": "43069b06-7e83-4d54-9e32-2dd58e6da7b3"
      },
      "execution_count": 43,
      "outputs": [
        {
          "output_type": "execute_result",
          "data": {
            "text/plain": [
              "1"
            ]
          },
          "metadata": {},
          "execution_count": 43
        }
      ]
    },
    {
      "cell_type": "markdown",
      "source": [
        "## 15. Write a code to create a tuple containng three different fruits and check if 'kiwi' is in it."
      ],
      "metadata": {
        "id": "qLzrdpsGdRXZ"
      }
    },
    {
      "cell_type": "code",
      "source": [
        "fruits=('mango','grapes','banana')\n",
        "fruits"
      ],
      "metadata": {
        "colab": {
          "base_uri": "https://localhost:8080/"
        },
        "id": "LIi6iz4-dJTD",
        "outputId": "fb763a75-6c8b-47b2-e803-911cfa596420"
      },
      "execution_count": 44,
      "outputs": [
        {
          "output_type": "execute_result",
          "data": {
            "text/plain": [
              "('mango', 'grapes', 'banana')"
            ]
          },
          "metadata": {},
          "execution_count": 44
        }
      ]
    },
    {
      "cell_type": "code",
      "source": [
        "'kiwi' in fruits"
      ],
      "metadata": {
        "colab": {
          "base_uri": "https://localhost:8080/"
        },
        "id": "OUVSAm1vdlys",
        "outputId": "4eeebb82-16e8-4cf7-b1bc-72fe6a26896f"
      },
      "execution_count": 45,
      "outputs": [
        {
          "output_type": "execute_result",
          "data": {
            "text/plain": [
              "False"
            ]
          },
          "metadata": {},
          "execution_count": 45
        }
      ]
    },
    {
      "cell_type": "markdown",
      "source": [
        "## 16. Write a code to create a set with the elements 'a' , 'b', 'c' and print it."
      ],
      "metadata": {
        "id": "6_plXvw2dqcW"
      }
    },
    {
      "cell_type": "code",
      "source": [
        "set1={'a','b','c'}\n",
        "print(set1)"
      ],
      "metadata": {
        "colab": {
          "base_uri": "https://localhost:8080/"
        },
        "id": "1T093U3wdpXu",
        "outputId": "9e04bc60-a48e-4950-bfad-9bdc36124177"
      },
      "execution_count": 46,
      "outputs": [
        {
          "output_type": "stream",
          "name": "stdout",
          "text": [
            "{'b', 'a', 'c'}\n"
          ]
        }
      ]
    },
    {
      "cell_type": "code",
      "source": [
        "type(set1)"
      ],
      "metadata": {
        "colab": {
          "base_uri": "https://localhost:8080/"
        },
        "id": "-shFmyXHd6KF",
        "outputId": "11d11083-3798-475c-c72f-3c6bdf210acc"
      },
      "execution_count": 47,
      "outputs": [
        {
          "output_type": "execute_result",
          "data": {
            "text/plain": [
              "set"
            ]
          },
          "metadata": {},
          "execution_count": 47
        }
      ]
    },
    {
      "cell_type": "markdown",
      "source": [
        "## 17. Write a code to clear all elements from the set {1,2,3,4,5}"
      ],
      "metadata": {
        "id": "KzeHlPPLd96n"
      }
    },
    {
      "cell_type": "code",
      "source": [
        "set1={1,2,3,4,5}\n",
        "set1.clear()\n",
        "print(set1)"
      ],
      "metadata": {
        "colab": {
          "base_uri": "https://localhost:8080/"
        },
        "id": "-U6BjZhKd85c",
        "outputId": "a0c68bf8-164c-4375-a293-bbef4ec46ec4"
      },
      "execution_count": 49,
      "outputs": [
        {
          "output_type": "stream",
          "name": "stdout",
          "text": [
            "set()\n"
          ]
        }
      ]
    },
    {
      "cell_type": "markdown",
      "source": [
        "## 18. Write a code to remove the element 4 from the set {1,2,3,4}"
      ],
      "metadata": {
        "id": "vAoYdcSgeYr_"
      }
    },
    {
      "cell_type": "code",
      "source": [
        "s={1,2,3,4}\n",
        "s.remove(4)\n",
        "s"
      ],
      "metadata": {
        "colab": {
          "base_uri": "https://localhost:8080/"
        },
        "id": "KG95H7-QeSHN",
        "outputId": "d61a3654-84fb-4e08-ef58-036c97732d11"
      },
      "execution_count": 51,
      "outputs": [
        {
          "output_type": "execute_result",
          "data": {
            "text/plain": [
              "{1, 2, 3}"
            ]
          },
          "metadata": {},
          "execution_count": 51
        }
      ]
    },
    {
      "cell_type": "markdown",
      "source": [
        "## 19. Write a code to find the union of two sets {1,2,3} and {3,4,5}"
      ],
      "metadata": {
        "id": "Nw7giBMweqed"
      }
    },
    {
      "cell_type": "code",
      "source": [
        "s1={1,2,3}\n",
        "s2={3,4,5}\n",
        "s1 | s2"
      ],
      "metadata": {
        "colab": {
          "base_uri": "https://localhost:8080/"
        },
        "id": "oSHBb9C6emUv",
        "outputId": "40fd8500-bb80-4c35-f982-46badef57b3b"
      },
      "execution_count": 52,
      "outputs": [
        {
          "output_type": "execute_result",
          "data": {
            "text/plain": [
              "{1, 2, 3, 4, 5}"
            ]
          },
          "metadata": {},
          "execution_count": 52
        }
      ]
    },
    {
      "cell_type": "markdown",
      "source": [
        "## 20. Write a code to find the intersection of two sets {1,2,3} and {2,3,4}"
      ],
      "metadata": {
        "id": "Uunv2kQ5e65_"
      }
    },
    {
      "cell_type": "code",
      "source": [
        "s1={1,2,3}\n",
        "s2={2,3,4}\n",
        "s1 & s2"
      ],
      "metadata": {
        "colab": {
          "base_uri": "https://localhost:8080/"
        },
        "id": "k11CJCAOe3zo",
        "outputId": "768e00fe-5ed1-4511-ff61-a90215a5cacb"
      },
      "execution_count": 53,
      "outputs": [
        {
          "output_type": "execute_result",
          "data": {
            "text/plain": [
              "{2, 3}"
            ]
          },
          "metadata": {},
          "execution_count": 53
        }
      ]
    },
    {
      "cell_type": "markdown",
      "source": [
        "## 21. Write a code to create a dictionary with the keys \"name\", \"age\" and \"city\" and print it."
      ],
      "metadata": {
        "id": "wjN1WGX2fKZ8"
      }
    },
    {
      "cell_type": "code",
      "source": [
        "detail={\"Name\":\"ABCD\",\"Age\":\"24\",\"City\":\"Banglore\"}\n",
        "print(detail)"
      ],
      "metadata": {
        "colab": {
          "base_uri": "https://localhost:8080/"
        },
        "id": "u89y9abJfJYk",
        "outputId": "2823abda-6620-4128-c056-100a32a8c417"
      },
      "execution_count": 54,
      "outputs": [
        {
          "output_type": "stream",
          "name": "stdout",
          "text": [
            "{'Name': 'ABCD', 'Age': '24', 'City': 'Banglore'}\n"
          ]
        }
      ]
    },
    {
      "cell_type": "markdown",
      "source": [
        "## 22. Write a code to add a new key-value pair \"country\" : \"USA\" to dictionary {'name':'John','age':30}"
      ],
      "metadata": {
        "id": "usfTaAXXfn_a"
      }
    },
    {
      "cell_type": "code",
      "source": [
        "John_detail={\"Name\":\"John\",\"Age\":30}\n",
        "John_detail"
      ],
      "metadata": {
        "colab": {
          "base_uri": "https://localhost:8080/"
        },
        "id": "h2J8XqLFfhtE",
        "outputId": "efcb0184-a516-4092-d3d5-7f73c1ed6082"
      },
      "execution_count": 56,
      "outputs": [
        {
          "output_type": "execute_result",
          "data": {
            "text/plain": [
              "{'Name': 'John', 'Age': 30}"
            ]
          },
          "metadata": {},
          "execution_count": 56
        }
      ]
    },
    {
      "cell_type": "code",
      "source": [
        "John_detail[\"Country\"]=\"USA\"\n",
        "John_detail"
      ],
      "metadata": {
        "colab": {
          "base_uri": "https://localhost:8080/"
        },
        "id": "mwpTtkBUf_gc",
        "outputId": "2d94cddc-d56d-42bf-a0b6-b2b5bea26a23"
      },
      "execution_count": 58,
      "outputs": [
        {
          "output_type": "execute_result",
          "data": {
            "text/plain": [
              "{'Name': 'John', 'Age': 30, 'Country': 'USA'}"
            ]
          },
          "metadata": {},
          "execution_count": 58
        }
      ]
    },
    {
      "cell_type": "markdown",
      "source": [
        "## 23. Write a code to access the associated with the key \"name\" in the dictionary {'name','Alice','Age':'30}"
      ],
      "metadata": {
        "id": "NEdEMHh1glFG"
      }
    },
    {
      "cell_type": "code",
      "source": [
        "detail={\"Name\":\"Alice\",\"Age\":30}\n",
        "detail[\"Name\"]"
      ],
      "metadata": {
        "colab": {
          "base_uri": "https://localhost:8080/",
          "height": 35
        },
        "id": "1HQ_yYVLgUCs",
        "outputId": "36859531-8afd-4313-9eb5-a24eaf2ceddb"
      },
      "execution_count": 59,
      "outputs": [
        {
          "output_type": "execute_result",
          "data": {
            "text/plain": [
              "'Alice'"
            ],
            "application/vnd.google.colaboratory.intrinsic+json": {
              "type": "string"
            }
          },
          "metadata": {},
          "execution_count": 59
        }
      ]
    },
    {
      "cell_type": "markdown",
      "source": [
        "## 24. Write a code to remove the key 'age' from dictionary {'name':'Bob','age':'22','city':'NewYork'}"
      ],
      "metadata": {
        "id": "bl5bA09UhFaa"
      }
    },
    {
      "cell_type": "code",
      "source": [
        "dictt={\"Name\":\"Bob\",\"Age\":22,\"City\":\"New York\"}\n",
        "dictt"
      ],
      "metadata": {
        "colab": {
          "base_uri": "https://localhost:8080/"
        },
        "id": "weuCldK2hEAg",
        "outputId": "a9a398a4-8079-48b4-bf3c-6e08fb8f9b8e"
      },
      "execution_count": 61,
      "outputs": [
        {
          "output_type": "execute_result",
          "data": {
            "text/plain": [
              "{'Name': 'Bob', 'Age': 22, 'City': 'New York'}"
            ]
          },
          "metadata": {},
          "execution_count": 61
        }
      ]
    },
    {
      "cell_type": "code",
      "source": [
        "del dictt[\"Age\"]\n",
        "print(dictt)"
      ],
      "metadata": {
        "colab": {
          "base_uri": "https://localhost:8080/"
        },
        "id": "NZ_CDZJUhlZz",
        "outputId": "0d0b8d3f-138b-440d-ce1f-ead494e27df9"
      },
      "execution_count": 63,
      "outputs": [
        {
          "output_type": "stream",
          "name": "stdout",
          "text": [
            "{'Name': 'Bob', 'City': 'New York'}\n"
          ]
        }
      ]
    },
    {
      "cell_type": "markdown",
      "source": [
        "## 25. Write a code to check if the key \"city\" exists in dictionary {'name':'Alice','city':'Paris}"
      ],
      "metadata": {
        "id": "4c9HQfOhhxKD"
      }
    },
    {
      "cell_type": "code",
      "source": [
        "d1={\"Name\":\"Alice\",\"City\":\"Paris\"}\n",
        "d1"
      ],
      "metadata": {
        "colab": {
          "base_uri": "https://localhost:8080/"
        },
        "id": "CXKxqx6ShtuJ",
        "outputId": "60724998-e250-47d8-c11e-f0ec905f283e"
      },
      "execution_count": 64,
      "outputs": [
        {
          "output_type": "execute_result",
          "data": {
            "text/plain": [
              "{'Name': 'Alice', 'City': 'Paris'}"
            ]
          },
          "metadata": {},
          "execution_count": 64
        }
      ]
    },
    {
      "cell_type": "code",
      "source": [
        "\"City\" in d1"
      ],
      "metadata": {
        "colab": {
          "base_uri": "https://localhost:8080/"
        },
        "id": "A93Ws3kKiG9z",
        "outputId": "debe32a5-15d2-4f3b-b200-ca9b993d06c7"
      },
      "execution_count": 67,
      "outputs": [
        {
          "output_type": "execute_result",
          "data": {
            "text/plain": [
              "True"
            ]
          },
          "metadata": {},
          "execution_count": 67
        }
      ]
    },
    {
      "cell_type": "code",
      "source": [
        "if \"City\" in d1:\n",
        "    print(True)"
      ],
      "metadata": {
        "colab": {
          "base_uri": "https://localhost:8080/"
        },
        "id": "cIvezlqdiuQO",
        "outputId": "dde62ce9-b5bc-4ad5-b648-c5afa3aabb96"
      },
      "execution_count": 69,
      "outputs": [
        {
          "output_type": "stream",
          "name": "stdout",
          "text": [
            "True\n"
          ]
        }
      ]
    },
    {
      "cell_type": "markdown",
      "source": [
        "## 26. Write a code to create a list , a tuple, and dictionary. and print them all."
      ],
      "metadata": {
        "id": "3cl4KOQRi_Ki"
      }
    },
    {
      "cell_type": "code",
      "source": [
        "my_list=[\"Praggy\",24,\"Lucknow\"]\n",
        "my_tuple=(\"Praggy\",24,\"Lucknow\")\n",
        "my_dict={\"Name\":\"Praggy\",\"Age\":24,\"Address\":\"Lucknow\"}\n",
        "print(my_list)\n",
        "print(my_tuple)\n",
        "print(my_dict)"
      ],
      "metadata": {
        "colab": {
          "base_uri": "https://localhost:8080/"
        },
        "id": "9dBKvyazi8C9",
        "outputId": "2fb1eb9b-072d-40c1-dbe4-406e9cbe73ba"
      },
      "execution_count": 70,
      "outputs": [
        {
          "output_type": "stream",
          "name": "stdout",
          "text": [
            "['Praggy', 24, 'Lucknow']\n",
            "('Praggy', 24, 'Lucknow')\n",
            "{'Name': 'Praggy', 'Age': 24, 'Address': 'Lucknow'}\n"
          ]
        }
      ]
    },
    {
      "cell_type": "markdown",
      "source": [
        "## 27. Write a code to create a list of 5 random numbers between 1 and 100, sort it in ascending order, and print the result."
      ],
      "metadata": {
        "id": "qOunHb61j06A"
      }
    },
    {
      "cell_type": "code",
      "source": [
        "import random\n",
        "my_num=[random.randint(1,100) for _ in range(5)]\n",
        "my_num"
      ],
      "metadata": {
        "colab": {
          "base_uri": "https://localhost:8080/"
        },
        "id": "EYZ6BSQkjwdy",
        "outputId": "a60f4a0b-2a79-4c86-9731-67a27a074f32"
      },
      "execution_count": 72,
      "outputs": [
        {
          "output_type": "execute_result",
          "data": {
            "text/plain": [
              "[27, 4, 31, 48, 15]"
            ]
          },
          "metadata": {},
          "execution_count": 72
        }
      ]
    },
    {
      "cell_type": "code",
      "source": [
        "my_num.sort()\n",
        "print(\"No. in ascending order\",my_num)"
      ],
      "metadata": {
        "colab": {
          "base_uri": "https://localhost:8080/"
        },
        "id": "kh96S85Dkb5-",
        "outputId": "10962a1e-cfcc-4e98-b5f6-70e6b5e618b5"
      },
      "execution_count": 74,
      "outputs": [
        {
          "output_type": "stream",
          "name": "stdout",
          "text": [
            "No. in ascending order [4, 15, 27, 31, 48]\n"
          ]
        }
      ]
    },
    {
      "cell_type": "markdown",
      "source": [
        "## 28. Write a code to create a list with strings and print the element at third index."
      ],
      "metadata": {
        "id": "nsXwWl6gkt8c"
      }
    },
    {
      "cell_type": "code",
      "source": [
        "listt=[\"ABC\",\"DEF\",\"GHI\",\"JKL\",\"MNO\"]\n",
        "listt[2]"
      ],
      "metadata": {
        "colab": {
          "base_uri": "https://localhost:8080/",
          "height": 35
        },
        "id": "2pD1uQcqkkwI",
        "outputId": "f346d4a0-6a54-4ca0-c106-f297a82f1040"
      },
      "execution_count": 75,
      "outputs": [
        {
          "output_type": "execute_result",
          "data": {
            "text/plain": [
              "'GHI'"
            ],
            "application/vnd.google.colaboratory.intrinsic+json": {
              "type": "string"
            }
          },
          "metadata": {},
          "execution_count": 75
        }
      ]
    },
    {
      "cell_type": "markdown",
      "source": [
        "## 29. Write a code to combine two dictionary into one and print the result"
      ],
      "metadata": {
        "id": "LkTNz5OXlK4G"
      }
    },
    {
      "cell_type": "code",
      "source": [
        "dict1 = {'apple': 5, 'ball': 4}\n",
        "dict2 = {'cat': 3, 'daisy': 5}\n",
        "\n",
        "dict1.update(dict2)\n",
        "print(dict1)"
      ],
      "metadata": {
        "colab": {
          "base_uri": "https://localhost:8080/"
        },
        "id": "_UQLxKODlIy-",
        "outputId": "dc6af6ea-c300-44da-8dfb-9c6147a2f920"
      },
      "execution_count": 76,
      "outputs": [
        {
          "output_type": "stream",
          "name": "stdout",
          "text": [
            "{'apple': 5, 'ball': 4, 'cat': 3, 'daisy': 5}\n"
          ]
        }
      ]
    },
    {
      "cell_type": "markdown",
      "source": [
        "## 30. Write a code to convert a list of strings into a set."
      ],
      "metadata": {
        "id": "xa04o7aBluqQ"
      }
    },
    {
      "cell_type": "code",
      "source": [
        "my_list = [\"apple\", \"banana\", \"apple\", \"cherry\", \"banana\"]\n",
        "my_set = set(my_list)\n",
        "print(my_set)\n"
      ],
      "metadata": {
        "colab": {
          "base_uri": "https://localhost:8080/"
        },
        "id": "i9IIQnQ3ls4x",
        "outputId": "5b2dccb1-e6b1-448d-aab5-f8758da45b4f"
      },
      "execution_count": 77,
      "outputs": [
        {
          "output_type": "stream",
          "name": "stdout",
          "text": [
            "{'banana', 'apple', 'cherry'}\n"
          ]
        }
      ]
    },
    {
      "cell_type": "code",
      "source": [],
      "metadata": {
        "id": "fqGYVNzTmHWE"
      },
      "execution_count": null,
      "outputs": []
    }
  ]
}